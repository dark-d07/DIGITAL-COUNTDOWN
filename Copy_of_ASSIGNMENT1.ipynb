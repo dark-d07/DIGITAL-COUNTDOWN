{
  "cells": [
    {
      "cell_type": "markdown",
      "metadata": {
        "id": "view-in-github",
        "colab_type": "text"
      },
      "source": [
        "<a href=\"https://colab.research.google.com/github/dark-d07/DIGITAL-COUNTDOWN/blob/master/Copy_of_ASSIGNMENT1.ipynb\" target=\"_parent\"><img src=\"https://colab.research.google.com/assets/colab-badge.svg\" alt=\"Open In Colab\"/></a>"
      ]
    },
    {
      "cell_type": "code",
      "execution_count": null,
      "metadata": {
        "id": "Bqz0W4nBjylL"
      },
      "outputs": [],
      "source": [
        "import numpy as np"
      ]
    },
    {
      "cell_type": "code",
      "execution_count": null,
      "metadata": {
        "id": "T6E5HhrnjylP",
        "outputId": "0cb611be-792f-4296-eadd-9f3f66a093e1"
      },
      "outputs": [
        {
          "name": "stdout",
          "output_type": "stream",
          "text": [
            "Initially all bowling figures as zero:\n",
            " [[0 0 0]\n",
            " [0 0 0]\n",
            " [0 0 0]\n",
            " [0 0 0]\n",
            " [0 0 0]]\n"
          ]
        }
      ],
      "source": [
        "a=np.zeros((5,3))\n",
        "b=a.astype('int')\n",
        "print(\"Initially all bowling figures as zero:\\n\",b)"
      ]
    },
    {
      "cell_type": "code",
      "execution_count": null,
      "metadata": {
        "id": "P4NS0IcSjylS",
        "outputId": "0e98c2ba-aae0-4d90-b516-240614ccc6f0"
      },
      "outputs": [
        {
          "name": "stdout",
          "output_type": "stream",
          "text": [
            "Filled with Bowling figure with Max 10 overs per bowler:\n",
            " [[10  3  6]\n",
            " [ 9  4  3]\n",
            " [ 8  0 10]\n",
            " [ 7  1 30]\n",
            " [ 4  8 40]]\n"
          ]
        }
      ],
      "source": [
        "c=np.array([\n",
        "    [10,3,6],\n",
        "    [9,4,3],\n",
        "    [8,0,10],\n",
        "    [7,1,30],\n",
        "    [4,8,40]\n",
        "])\n",
        "print(\"Filled with Bowling figure with Max 10 overs per bowler:\\n\",c)"
      ]
    },
    {
      "cell_type": "code",
      "execution_count": null,
      "metadata": {
        "id": "3bvxf-FCjylU",
        "outputId": "c292d28b-5d98-433b-9a24-39bf76694f30"
      },
      "outputs": [
        {
          "name": "stdout",
          "output_type": "stream",
          "text": [
            "Fast Bowling(Considering first 3 bowlers are first bowlers):\n",
            " [[10  3  6]\n",
            " [ 9  4  3]\n",
            " [ 8  0 10]]\n"
          ]
        }
      ],
      "source": [
        "d=c[:3,:]\n",
        "print(\"Fast Bowling(Considering first 3 bowlers are first bowlers):\\n\",d)"
      ]
    },
    {
      "cell_type": "code",
      "execution_count": null,
      "metadata": {
        "id": "hdBD8sAzjylV",
        "outputId": "5cf80c2a-01d9-45eb-cd83-2f4225ee8e0c"
      },
      "outputs": [
        {
          "name": "stdout",
          "output_type": "stream",
          "text": [
            "Bowling of All Bowlers:\n",
            " [ 0.6         0.33333333  1.25        4.28571429 10.        ]\n"
          ]
        }
      ],
      "source": [
        "e=c[:,2]/c[:,0]\n",
        "print(\"Bowling of All Bowlers:\\n\",e)"
      ]
    },
    {
      "cell_type": "code",
      "execution_count": null,
      "metadata": {
        "id": "ZNl52I59jylY"
      },
      "outputs": [],
      "source": [
        "runs=np.array([10,20,56,7,100,94,39,64,99,87,54])"
      ]
    },
    {
      "cell_type": "code",
      "execution_count": null,
      "metadata": {
        "id": "oOIhwFD9jyla",
        "outputId": "e8a0718b-2467-46b8-fa57-1266992c1896"
      },
      "outputs": [
        {
          "name": "stdout",
          "output_type": "stream",
          "text": [
            "Runs Scored By Batman: [ 10  20  56   7 100  94  39  64  99  87  54]\n",
            "Minimum Runs: 7\n",
            "Maximum Run: 100\n"
          ]
        }
      ],
      "source": [
        "minrun=np.min(runs)\n",
        "maxrun=np.max(runs)\n",
        "print(\"Runs Scored By Batman:\",runs)\n",
        "print(\"Minimum Runs:\",minrun)\n",
        "print(\"Maximum Run:\",maxrun)"
      ]
    },
    {
      "cell_type": "code",
      "execution_count": null,
      "metadata": {
        "id": "z0cBuennjyld",
        "outputId": "1b649cae-18d2-42f8-c59b-1f8e98878135"
      },
      "outputs": [
        {
          "name": "stdout",
          "output_type": "stream",
          "text": [
            "Total Run Scores: 630\n"
          ]
        }
      ],
      "source": [
        "trun=np.sum(runs)\n",
        "print(\"Total Run Scores:\",trun)"
      ]
    },
    {
      "cell_type": "code",
      "execution_count": null,
      "metadata": {
        "id": "B6mjlPhyjylf",
        "outputId": "398855d0-c821-4b9c-e7a6-1f755d081576"
      },
      "outputs": [
        {
          "name": "stdout",
          "output_type": "stream",
          "text": [
            "Run Rate: 12.6\n"
          ]
        }
      ],
      "source": [
        "rrun=trun/50\n",
        "print(\"Run Rate:\",rrun)"
      ]
    },
    {
      "cell_type": "code",
      "execution_count": null,
      "metadata": {
        "id": "3m-4f2MGjylh",
        "outputId": "4ac3cb7c-6d89-4f12-8f4a-fc4533a29c04"
      },
      "outputs": [
        {
          "name": "stdout",
          "output_type": "stream",
          "text": [
            "Batmans Scored Double digit: 10\n"
          ]
        }
      ],
      "source": [
        "drun=runs[runs>9]\n",
        "drun=len(drun)\n",
        "print(\"Batmans Scored Double digit:\",drun)"
      ]
    },
    {
      "cell_type": "code",
      "execution_count": null,
      "metadata": {
        "id": "VlLr50U1jylx",
        "outputId": "ef0add03-1599-4955-90e0-ea116f5ad40d"
      },
      "outputs": [
        {
          "name": "stdout",
          "output_type": "stream",
          "text": [
            "The sorted scores:\n",
            " [  7  10  20  39  54  56  64  87  94  99 100]\n"
          ]
        }
      ],
      "source": [
        "srun=np.sort(runs)\n",
        "print(\"The sorted scores:\\n\",srun)"
      ]
    },
    {
      "cell_type": "code",
      "execution_count": null,
      "metadata": {
        "id": "RmSYywZyjyl6",
        "outputId": "bba77222-ec92-4f45-ef98-a3fb62d165d7"
      },
      "outputs": [
        {
          "name": "stdout",
          "output_type": "stream",
          "text": [
            "Scores after Bonus +5:\n",
            " [ 15  25  61  12 105  99  44  69 104  92  59]\n"
          ]
        }
      ],
      "source": [
        "aruns=runs+5\n",
        "print(\"Scores after Bonus +5:\\n\",aruns)"
      ]
    },
    {
      "cell_type": "code",
      "execution_count": null,
      "metadata": {
        "id": "U63_bZ7fjyl7",
        "outputId": "258e27c5-3a48-4794-9078-d0af87f7c1c1"
      },
      "outputs": [
        {
          "name": "stdout",
          "output_type": "stream",
          "text": [
            "Top-Order's Scores: [ 10  20  56   7 100]\n",
            "Tail-Ender's Scores: [94 39 64 99 87 54]\n"
          ]
        }
      ],
      "source": [
        "torun=runs[:5]\n",
        "tairun=runs[5:]\n",
        "print(\"Top-Order's Scores:\",torun)\n",
        "print(\"Tail-Ender's Scores:\",tairun)"
      ]
    },
    {
      "cell_type": "code",
      "execution_count": null,
      "metadata": {
        "id": "-bX6eSgSjyl9",
        "outputId": "d9b9c345-9419-40fe-d15b-b546488a9cd8"
      },
      "outputs": [
        {
          "name": "stdout",
          "output_type": "stream",
          "text": [
            "12th Batman is included:\n",
            " [ 10  20  56   7 100  94  39  64  99  87  54  30]\n"
          ]
        }
      ],
      "source": [
        "runs1=np.insert(runs,len(runs),30)\n",
        "print(\"12th Batman is included:\\n\", runs1)"
      ]
    },
    {
      "cell_type": "code",
      "execution_count": null,
      "metadata": {
        "id": "yEGQDvcijyl-",
        "outputId": "f1e3e7f8-6d94-4ab6-f5de-7f0792bffe30"
      },
      "outputs": [
        {
          "name": "stdout",
          "output_type": "stream",
          "text": [
            "Random Jersey Number:\n",
            " [67 86 12 10  2 46 75 42 62 49 34]\n"
          ]
        }
      ],
      "source": [
        "jrun=np.random.randint(1,100,size=11)\n",
        "print(\"Random Jersey Number:\\n\",jrun)"
      ]
    },
    {
      "cell_type": "code",
      "execution_count": null,
      "metadata": {
        "id": "jABCZzSMjyl-"
      },
      "outputs": [],
      "source": [
        "a1=np.array([10,20,30,40,50,60,70,80,90,100,110])\n",
        "a2=np.array([1,11,22,33,44,55,66,77,88,99,111])\n",
        "a3=np.array([2,4,6,8,10,11,23,45,67,89,78])"
      ]
    },
    {
      "cell_type": "code",
      "execution_count": null,
      "metadata": {
        "id": "LX8m99kejyl_",
        "outputId": "3e8554cc-7759-4801-dc46-5c5ed4174628"
      },
      "outputs": [
        {
          "name": "stdout",
          "output_type": "stream",
          "text": [
            "The Total Score by individual bats man in tournament:\n",
            " [ 13  35  58  81 104 126 159 202 245 288 299]\n"
          ]
        }
      ],
      "source": [
        "k=a1+a2+a3\n",
        "print(\"The Total Score by individual bats man in tournament:\\n\",k)"
      ]
    },
    {
      "cell_type": "code",
      "execution_count": null,
      "metadata": {
        "id": "pw44eRFRjymA",
        "outputId": "fa83c4c1-8a3e-4c26-ec90-8960ad8ee4da"
      },
      "outputs": [
        {
          "name": "stdout",
          "output_type": "stream",
          "text": [
            "The Average Score by individual bats man in tournament:\n",
            " [ 4.33333333 11.66666667 19.33333333 27.         34.66666667 42.\n",
            " 53.         67.33333333 81.66666667 96.         99.66666667]\n"
          ]
        }
      ],
      "source": [
        "print(\"The Average Score by individual bats man in tournament:\\n\",k/3)"
      ]
    },
    {
      "cell_type": "code",
      "execution_count": null,
      "metadata": {
        "id": "le4Nf7HijymA",
        "outputId": "b17cff24-e338-4b18-8204-7fb296860f41"
      },
      "outputs": [
        {
          "name": "stdout",
          "output_type": "stream",
          "text": [
            "The Highest Run Getter is 11 with score: 299\n"
          ]
        }
      ],
      "source": [
        "max=np.max(k)\n",
        "print(\"The Highest Run Getter is\",np.argmax(k)+1,\"with score:\",max)"
      ]
    }
  ],
  "metadata": {
    "kernelspec": {
      "display_name": "Python 3",
      "language": "python",
      "name": "python3"
    },
    "language_info": {
      "codemirror_mode": {
        "name": "ipython",
        "version": 3
      },
      "file_extension": ".py",
      "mimetype": "text/x-python",
      "name": "python",
      "nbconvert_exporter": "python",
      "pygments_lexer": "ipython3",
      "version": "3.11.4"
    },
    "orig_nbformat": 4,
    "colab": {
      "provenance": [],
      "include_colab_link": true
    }
  },
  "nbformat": 4,
  "nbformat_minor": 0
}